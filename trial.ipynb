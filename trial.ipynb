{
 "cells": [
  {
   "cell_type": "code",
   "execution_count": 1,
   "metadata": {},
   "outputs": [],
   "source": [
    "import os\n",
    "import torch\n",
    "from torch.utils.data import Dataset\n",
    "import torchvision.transforms as T\n",
    "from torchvision.utils import save_image, make_grid\n",
    "from datasets import load_dataset\n",
    "import matplotlib.pyplot as plt\n",
    "from PIL import Image\n",
    "import requests\n",
    "from io import BytesIO\n",
    "from tqdm import tqdm\n",
    "from pathlib import Path"
   ]
  },
  {
   "cell_type": "code",
   "execution_count": 2,
   "metadata": {},
   "outputs": [],
   "source": [
    "checkpoint_path = \"/home/hoffman/Documents/git/rectified-flow-pytorch/checkpoints/checkpoint.41000.pt\""
   ]
  },
  {
   "cell_type": "code",
   "execution_count": 3,
   "metadata": {},
   "outputs": [],
   "source": [
    "\n",
    "class OxfordFlowersDataset(Dataset):\n",
    "    def __init__(\n",
    "        self,\n",
    "        image_size\n",
    "    ):\n",
    "        self.ds = load_dataset('nelorth/oxford-flowers')['train']\n",
    "\n",
    "        self.transform = T.Compose([\n",
    "            T.Resize((image_size, image_size)),\n",
    "            T.PILToTensor()\n",
    "        ])\n",
    "\n",
    "    def __len__(self):\n",
    "        return len(self.ds)\n",
    "\n",
    "    def __getitem__(self, idx):\n",
    "        pil = self.ds[idx]['image']\n",
    "        tensor = self.transform(pil)\n",
    "        return tensor / 255.\n",
    "    \n",
    "    \n",
    "\n",
    "\n",
    "flowers_dataset = OxfordFlowersDataset(\n",
    "    image_size = 128\n",
    ")"
   ]
  },
  {
   "cell_type": "code",
   "execution_count": 4,
   "metadata": {},
   "outputs": [],
   "source": [
    "def download_checkpoint(hf_repo_id, checkpoint_path, local_path):\n",
    "    # Create directory if it doesn't exist\n",
    "    os.makedirs(os.path.dirname(local_path), exist_ok=True)\n",
    "    \n",
    "    # Check if file already exists\n",
    "    if os.path.exists(local_path):\n",
    "        print(f\"Checkpoint already exists at {local_path}\")\n",
    "        return local_path\n",
    "    \n",
    "    # Construct URL for the file\n",
    "    url = f\"https://huggingface.co/{hf_repo_id}/resolve/main/{checkpoint_path}\"\n",
    "    \n",
    "    # Download the file\n",
    "    print(f\"Downloading checkpoint from {url}...\")\n",
    "    response = requests.get(url, stream=True)\n",
    "    response.raise_for_status()\n",
    "    \n",
    "    # Save the file\n",
    "    with open(local_path, 'wb') as f:\n",
    "        total_size = int(response.headers.get('content-length', 0))\n",
    "        block_size = 1024\n",
    "        for data in tqdm(response.iter_content(block_size), total=total_size//block_size, unit='KB'):\n",
    "            f.write(data)\n",
    "    \n",
    "    print(f\"Checkpoint downloaded to {local_path}\")\n",
    "    return local_path"
   ]
  },
  {
   "cell_type": "code",
   "execution_count": 5,
   "metadata": {},
   "outputs": [
    {
     "name": "stdout",
     "output_type": "stream",
     "text": [
      "Checkpoint already exists at ./checkpoints/checkpoint.41000.pt\n",
      "Using device: cpu\n",
      "Loading checkpoint...\n"
     ]
    },
    {
     "name": "stderr",
     "output_type": "stream",
     "text": [
      "/home/hoffman/anaconda3/envs/thesis/lib/python3.11/site-packages/torch/cuda/__init__.py:128: UserWarning: CUDA initialization: CUDA unknown error - this may be due to an incorrectly set up environment, e.g. changing env variable CUDA_VISIBLE_DEVICES after program start. Setting the available devices to be zero. (Triggered internally at ../c10/cuda/CUDAFunctions.cpp:108.)\n",
      "  return torch._C._cuda_getDeviceCount() > 0\n",
      "/tmp/ipykernel_811838/2449326727.py:15: FutureWarning: You are using `torch.load` with `weights_only=False` (the current default value), which uses the default pickle module implicitly. It is possible to construct malicious pickle data which will execute arbitrary code during unpickling (See https://github.com/pytorch/pytorch/blob/main/SECURITY.md#untrusted-models for more details). In a future release, the default value for `weights_only` will be flipped to `True`. This limits the functions that could be executed during unpickling. Arbitrary objects will no longer be allowed to be loaded via this mode unless they are explicitly allowlisted by the user via `torch.serialization.add_safe_globals`. We recommend you start setting `weights_only=True` for any use case where you don't have full control of the loaded file. Please open an issue on GitHub for any issues related to this experimental feature.\n",
      "  checkpoint = torch.load(checkpoint_path, map_location=device)\n"
     ]
    }
   ],
   "source": [
    "checkpoint_path = download_checkpoint(\n",
    "        hf_repo_id=\"Aadharsh/oxford-rf\", \n",
    "        checkpoint_path=\"checkpoints/checkpoint.41000.pt\",\n",
    "        local_path=\"./checkpoints/checkpoint.41000.pt\"\n",
    "    )\n",
    "\n",
    "\n",
    "\n",
    "# Set device\n",
    "device = torch.device('cuda' if torch.cuda.is_available() else 'cpu')\n",
    "print(f\"Using device: {device}\")\n",
    "\n",
    "# Load checkpoint\n",
    "print(\"Loading checkpoint...\")\n",
    "checkpoint = torch.load(checkpoint_path, map_location=device)"
   ]
  },
  {
   "cell_type": "code",
   "execution_count": 6,
   "metadata": {},
   "outputs": [
    {
     "data": {
      "text/plain": [
       "<All keys matched successfully>"
      ]
     },
     "execution_count": 6,
     "metadata": {},
     "output_type": "execute_result"
    }
   ],
   "source": [
    "from rectified_flow_pytorch import RectifiedFlow, Unet, Trainer\n",
    "\n",
    "model = Unet(\n",
    "    dim = 64,\n",
    "    mean_variance_net = False\n",
    ")\n",
    "\n",
    "rectified_flow = RectifiedFlow(model)\n",
    "rectified_flow.load_state_dict(checkpoint['model'])\n"
   ]
  },
  {
   "cell_type": "code",
   "execution_count": 7,
   "metadata": {},
   "outputs": [],
   "source": [
    "num_samples = 4\n",
    "sample_indices = torch.randint(0, len(flowers_dataset), (num_samples,))\n",
    "sample_images = [flowers_dataset[idx.item()] for idx in sample_indices]\n",
    "images_batch = torch.stack(sample_images).to(device)"
   ]
  },
  {
   "cell_type": "code",
   "execution_count": 8,
   "metadata": {},
   "outputs": [],
   "source": [
    "with torch.no_grad():\n",
    "    noise = rectified_flow.reverse(images_batch)"
   ]
  },
  {
   "cell_type": "code",
   "execution_count": null,
   "metadata": {},
   "outputs": [
    {
     "data": {
      "text/plain": [
       "torch.Size([4, 3, 128, 128])"
      ]
     },
     "execution_count": 9,
     "metadata": {},
     "output_type": "execute_result"
    }
   ],
   "source": [
    "mean = x_flat.mean(dim=0)  # shape: (3,)\n"
   ]
  },
  {
   "cell_type": "code",
   "execution_count": 11,
   "metadata": {},
   "outputs": [],
   "source": [
    "output_dir = \"./reversed_flow_results\"\n",
    "os.makedirs(output_dir, exist_ok=True)\n",
    "img_grid = make_grid(noise, nrow=2)\n",
    "save_image(img_grid, f\"{output_dir}/noise.png\")"
   ]
  },
  {
   "cell_type": "code",
   "execution_count": 35,
   "metadata": {},
   "outputs": [],
   "source": [
    "data_shape = images_batch.shape[1:]\n",
    "\n",
    "with torch.no_grad():\n",
    "    sampled = rectified_flow.sample(images_batch.shape[0], data_shape=data_shape)"
   ]
  },
  {
   "cell_type": "code",
   "execution_count": 37,
   "metadata": {},
   "outputs": [],
   "source": [
    "from torchvision.utils import save_image"
   ]
  },
  {
   "cell_type": "code",
   "execution_count": 41,
   "metadata": {},
   "outputs": [],
   "source": [
    "sampled = rearrange(sampled, '(row col) c h w -> c (row h) (col w)', row = 2)\n",
    "sampled.clamp_(0., 1.)\n",
    "\n",
    "save_image(sampled, \"something.png\")"
   ]
  },
  {
   "cell_type": "code",
   "execution_count": 39,
   "metadata": {},
   "outputs": [],
   "source": [
    "from einops import einsum, reduce, rearrange, repeat\n",
    "from einops.layers.torch import Rearrange"
   ]
  },
  {
   "cell_type": "code",
   "execution_count": null,
   "metadata": {},
   "outputs": [],
   "source": [
    "eval_model = default(self.ema_model, self.model)\n",
    "dl = cycle(self.dl)\n",
    "mock_data = next(dl)\n",
    "data_shape = mock_data.shape[1:]\n",
    "\n",
    "with torch.no_grad():\n",
    "    sampled = eval_model.sample(batch_size=self.num_samples, data_shape=data_shape)\n",
    "\n",
    "sampled = rearrange(sampled, '(row col) c h w -> c (row h) (col w)', row = self.num_sample_rows)\n",
    "sampled.clamp_(0., 1.)\n",
    "\n",
    "save_image(sampled, fname)\n",
    "return sampled"
   ]
  },
  {
   "cell_type": "code",
   "execution_count": 13,
   "metadata": {},
   "outputs": [
    {
     "name": "stdout",
     "output_type": "stream",
     "text": [
      "Requirement already satisfied: torchdiffeq in /home/hoffman/anaconda3/envs/thesis/lib/python3.11/site-packages (0.2.5)\n",
      "Requirement already satisfied: einx in /home/hoffman/anaconda3/envs/thesis/lib/python3.11/site-packages (0.3.0)\n",
      "Requirement already satisfied: hyper_connections in /home/hoffman/anaconda3/envs/thesis/lib/python3.11/site-packages (0.1.15)\n",
      "Collecting ema_pytorch\n",
      "  Downloading ema_pytorch-0.7.7-py3-none-any.whl.metadata (689 bytes)\n",
      "Requirement already satisfied: torch>=1.5.0 in /home/hoffman/anaconda3/envs/thesis/lib/python3.11/site-packages (from torchdiffeq) (2.4.0)\n",
      "Requirement already satisfied: scipy>=1.4.0 in /home/hoffman/anaconda3/envs/thesis/lib/python3.11/site-packages (from torchdiffeq) (1.13.0)\n",
      "Requirement already satisfied: numpy in /home/hoffman/anaconda3/envs/thesis/lib/python3.11/site-packages (from einx) (1.26.4)\n",
      "Requirement already satisfied: sympy in /home/hoffman/anaconda3/envs/thesis/lib/python3.11/site-packages (from einx) (1.13.1)\n",
      "Requirement already satisfied: frozendict in /home/hoffman/anaconda3/envs/thesis/lib/python3.11/site-packages (from einx) (2.4.6)\n",
      "Requirement already satisfied: einops>=0.8.0 in /home/hoffman/anaconda3/envs/thesis/lib/python3.11/site-packages (from hyper_connections) (0.8.0)\n",
      "Requirement already satisfied: filelock in /home/hoffman/anaconda3/envs/thesis/lib/python3.11/site-packages (from torch>=1.5.0->torchdiffeq) (3.13.1)\n",
      "Requirement already satisfied: typing-extensions>=4.8.0 in /home/hoffman/anaconda3/envs/thesis/lib/python3.11/site-packages (from torch>=1.5.0->torchdiffeq) (4.12.2)\n",
      "Requirement already satisfied: networkx in /home/hoffman/anaconda3/envs/thesis/lib/python3.11/site-packages (from torch>=1.5.0->torchdiffeq) (3.1)\n",
      "Requirement already satisfied: jinja2 in /home/hoffman/anaconda3/envs/thesis/lib/python3.11/site-packages (from torch>=1.5.0->torchdiffeq) (3.1.3)\n",
      "Requirement already satisfied: fsspec in /home/hoffman/anaconda3/envs/thesis/lib/python3.11/site-packages (from torch>=1.5.0->torchdiffeq) (2024.3.1)\n",
      "Requirement already satisfied: nvidia-cuda-nvrtc-cu12==12.1.105 in /home/hoffman/anaconda3/envs/thesis/lib/python3.11/site-packages (from torch>=1.5.0->torchdiffeq) (12.1.105)\n",
      "Requirement already satisfied: nvidia-cuda-runtime-cu12==12.1.105 in /home/hoffman/anaconda3/envs/thesis/lib/python3.11/site-packages (from torch>=1.5.0->torchdiffeq) (12.1.105)\n",
      "Requirement already satisfied: nvidia-cuda-cupti-cu12==12.1.105 in /home/hoffman/anaconda3/envs/thesis/lib/python3.11/site-packages (from torch>=1.5.0->torchdiffeq) (12.1.105)\n",
      "Requirement already satisfied: nvidia-cudnn-cu12==9.1.0.70 in /home/hoffman/anaconda3/envs/thesis/lib/python3.11/site-packages (from torch>=1.5.0->torchdiffeq) (9.1.0.70)\n",
      "Requirement already satisfied: nvidia-cublas-cu12==12.1.3.1 in /home/hoffman/anaconda3/envs/thesis/lib/python3.11/site-packages (from torch>=1.5.0->torchdiffeq) (12.1.3.1)\n",
      "Requirement already satisfied: nvidia-cufft-cu12==11.0.2.54 in /home/hoffman/anaconda3/envs/thesis/lib/python3.11/site-packages (from torch>=1.5.0->torchdiffeq) (11.0.2.54)\n",
      "Requirement already satisfied: nvidia-curand-cu12==10.3.2.106 in /home/hoffman/anaconda3/envs/thesis/lib/python3.11/site-packages (from torch>=1.5.0->torchdiffeq) (10.3.2.106)\n",
      "Requirement already satisfied: nvidia-cusolver-cu12==11.4.5.107 in /home/hoffman/anaconda3/envs/thesis/lib/python3.11/site-packages (from torch>=1.5.0->torchdiffeq) (11.4.5.107)\n",
      "Requirement already satisfied: nvidia-cusparse-cu12==12.1.0.106 in /home/hoffman/anaconda3/envs/thesis/lib/python3.11/site-packages (from torch>=1.5.0->torchdiffeq) (12.1.0.106)\n",
      "Requirement already satisfied: nvidia-nccl-cu12==2.20.5 in /home/hoffman/anaconda3/envs/thesis/lib/python3.11/site-packages (from torch>=1.5.0->torchdiffeq) (2.20.5)\n",
      "Requirement already satisfied: nvidia-nvtx-cu12==12.1.105 in /home/hoffman/anaconda3/envs/thesis/lib/python3.11/site-packages (from torch>=1.5.0->torchdiffeq) (12.1.105)\n",
      "Requirement already satisfied: triton==3.0.0 in /home/hoffman/anaconda3/envs/thesis/lib/python3.11/site-packages (from torch>=1.5.0->torchdiffeq) (3.0.0)\n",
      "Requirement already satisfied: nvidia-nvjitlink-cu12 in /home/hoffman/anaconda3/envs/thesis/lib/python3.11/site-packages (from nvidia-cusolver-cu12==11.4.5.107->torch>=1.5.0->torchdiffeq) (12.4.127)\n",
      "Requirement already satisfied: mpmath<1.4,>=1.1.0 in /home/hoffman/anaconda3/envs/thesis/lib/python3.11/site-packages (from sympy->einx) (1.3.0)\n",
      "Requirement already satisfied: MarkupSafe>=2.0 in /home/hoffman/anaconda3/envs/thesis/lib/python3.11/site-packages (from jinja2->torch>=1.5.0->torchdiffeq) (2.1.3)\n",
      "Downloading ema_pytorch-0.7.7-py3-none-any.whl (9.8 kB)\n",
      "Installing collected packages: ema_pytorch\n",
      "Successfully installed ema_pytorch-0.7.7\n",
      "Note: you may need to restart the kernel to use updated packages.\n"
     ]
    }
   ],
   "source": [
    "pip install torchdiffeq einx hyper_connections ema_pytorch\n"
   ]
  },
  {
   "cell_type": "code",
   "execution_count": null,
   "metadata": {},
   "outputs": [],
   "source": []
  }
 ],
 "metadata": {
  "kernelspec": {
   "display_name": "thesis",
   "language": "python",
   "name": "python3"
  },
  "language_info": {
   "codemirror_mode": {
    "name": "ipython",
    "version": 3
   },
   "file_extension": ".py",
   "mimetype": "text/x-python",
   "name": "python",
   "nbconvert_exporter": "python",
   "pygments_lexer": "ipython3",
   "version": "3.11.9"
  }
 },
 "nbformat": 4,
 "nbformat_minor": 2
}
